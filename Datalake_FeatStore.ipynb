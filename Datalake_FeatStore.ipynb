{
 "cells": [
  {
   "cell_type": "markdown",
   "id": "6cf51400-da5d-4644-b0f0-f0521c4251c7",
   "metadata": {},
   "source": [
    "## Datalake"
   ]
  },
  {
   "cell_type": "code",
   "execution_count": 17,
   "id": "3a4c14d9-4e17-44a3-bb18-67cfe86c14d9",
   "metadata": {},
   "outputs": [],
   "source": [
    "import boto3\n",
    "import sagemaker\n",
    "from pyathena import connect\n",
    "import pandas as pd\n"
   ]
  },
  {
   "cell_type": "code",
   "execution_count": 18,
   "id": "1561e8d1-bff3-40e6-b37f-12b64f264f60",
   "metadata": {},
   "outputs": [],
   "source": [
    "session = boto3.session.Session()\n",
    "region = session.region_name\n",
    "sagemaker_session = sagemaker.Session()\n",
    "bucket = sagemaker_session.default_bucket()\n",
    "s3 = boto3.Session().client(service_name=\"s3\", region_name=region)\n",
    "\n",
    "role = sagemaker.get_execution_role()\n",
    "account_id = boto3.client(\"sts\").get_caller_identity().get(\"Account\")\n",
    "sm = boto3.Session().client(service_name=\"sagemaker\", region_name=region)"
   ]
  },
  {
   "cell_type": "code",
   "execution_count": 19,
   "id": "e1b50571-e712-476a-b041-f0a0aa765f48",
   "metadata": {},
   "outputs": [
    {
     "name": "stdout",
     "output_type": "stream",
     "text": [
      "Default bucket: sagemaker-us-east-1-429874041769\n"
     ]
    }
   ],
   "source": [
    "print(\"Default bucket: {}\".format(bucket))"
   ]
  },
  {
   "cell_type": "code",
   "execution_count": 20,
   "id": "65aa59df-f0aa-4094-a46f-765fcc4f27b7",
   "metadata": {},
   "outputs": [
    {
     "name": "stdout",
     "output_type": "stream",
     "text": [
      "{'ResponseMetadata': {'RequestId': '51K440M1TS79R5E4', 'HostId': '97acj8vaDyQw4DARwVFGHr9vhsm3aSjZj6JxyRvKtT1N2CRI0nTtVfeRke571YmZ0e5QpUPFXiA=', 'HTTPStatusCode': 200, 'HTTPHeaders': {'x-amz-id-2': '97acj8vaDyQw4DARwVFGHr9vhsm3aSjZj6JxyRvKtT1N2CRI0nTtVfeRke571YmZ0e5QpUPFXiA=', 'x-amz-request-id': '51K440M1TS79R5E4', 'date': 'Wed, 21 May 2025 11:06:35 GMT', 'x-amz-bucket-region': 'us-east-1', 'x-amz-access-point-alias': 'false', 'content-type': 'application/xml', 'transfer-encoding': 'chunked', 'server': 'AmazonS3'}, 'RetryAttempts': 0}, 'BucketRegion': 'us-east-1', 'AccessPointAlias': False}\n"
     ]
    }
   ],
   "source": [
    "# Verifying the Bucket Creation\n",
    "from botocore.client import ClientError\n",
    "\n",
    "response = None\n",
    "\n",
    "try:\n",
    "    response = s3.head_bucket(Bucket=bucket)\n",
    "    print(response)\n",
    "    setup_s3_bucket_passed = True\n",
    "except ClientError as e:\n",
    "    print(\"[ERROR] Cannot find bucket {} in {} due to {}.\".format(bucket, response, e))"
   ]
  },
  {
   "cell_type": "code",
   "execution_count": 21,
   "id": "53be91dd-9bc6-4bbc-a50d-340e283f0eb4",
   "metadata": {},
   "outputs": [
    {
     "name": "stdout",
     "output_type": "stream",
     "text": [
      "s3://sagemaker-us-east-1-429874041769/maintx/csv\n"
     ]
    }
   ],
   "source": [
    "s3_private_path_maintx = \"s3://{}/maintx/csv\".format(bucket)\n",
    "print(s3_private_path_maintx)"
   ]
  },
  {
   "cell_type": "code",
   "execution_count": 22,
   "id": "5ad3e702-c0e1-4c4a-b979-75f07f82f68f",
   "metadata": {},
   "outputs": [
    {
     "name": "stdout",
     "output_type": "stream",
     "text": [
      "upload: ./vehicle_maintenance_data.csv to s3://sagemaker-us-east-1-429874041769/maintx/csv/vehicle_maintenance_data.csv\n"
     ]
    }
   ],
   "source": [
    "!aws s3 cp \"vehicle_maintenance_data.csv\" $s3_private_path_maintx/"
   ]
  },
  {
   "cell_type": "code",
   "execution_count": 23,
   "id": "9d94d6cc-7975-4e56-b597-323e988aa060",
   "metadata": {},
   "outputs": [
    {
     "name": "stdout",
     "output_type": "stream",
     "text": [
      "s3://sagemaker-us-east-1-429874041769/maintx/csv\n",
      "2025-05-21 11:06:36    5828965 vehicle_maintenance_data.csv\n"
     ]
    }
   ],
   "source": [
    "print(s3_private_path_maintx)\n",
    "!aws s3 ls $s3_private_path_maintx/"
   ]
  },
  {
   "cell_type": "code",
   "execution_count": 24,
   "id": "cb3db0b8-8bef-4b4c-a225-05d6ae640ded",
   "metadata": {},
   "outputs": [],
   "source": [
    "database_name = \"dsomaintx\"\n",
    "# Set S3 staging directory -- this is a temporary directory used for Athena queries\n",
    "s3_staging_dir = \"s3://{0}/athena/staging\".format(bucket)\n",
    "conn = connect(region_name=region, s3_staging_dir=s3_staging_dir)"
   ]
  },
  {
   "cell_type": "code",
   "execution_count": 25,
   "id": "ee7e6a82-a526-4d45-9457-f66af9fcd66a",
   "metadata": {},
   "outputs": [
    {
     "name": "stdout",
     "output_type": "stream",
     "text": [
      "CREATE DATABASE IF NOT EXISTS dsomaintx\n"
     ]
    },
    {
     "name": "stderr",
     "output_type": "stream",
     "text": [
      "/tmp/ipykernel_2625/2532319348.py:3: UserWarning: pandas only supports SQLAlchemy connectable (engine/connection) or database string URI or sqlite3 DBAPI2 connection. Other DBAPI2 objects are not tested. Please consider using SQLAlchemy.\n",
      "  pd.read_sql(statement, conn)\n"
     ]
    },
    {
     "data": {
      "text/html": [
       "<div>\n",
       "<style scoped>\n",
       "    .dataframe tbody tr th:only-of-type {\n",
       "        vertical-align: middle;\n",
       "    }\n",
       "\n",
       "    .dataframe tbody tr th {\n",
       "        vertical-align: top;\n",
       "    }\n",
       "\n",
       "    .dataframe thead th {\n",
       "        text-align: right;\n",
       "    }\n",
       "</style>\n",
       "<table border=\"1\" class=\"dataframe\">\n",
       "  <thead>\n",
       "    <tr style=\"text-align: right;\">\n",
       "      <th></th>\n",
       "    </tr>\n",
       "  </thead>\n",
       "  <tbody>\n",
       "  </tbody>\n",
       "</table>\n",
       "</div>"
      ],
      "text/plain": [
       "Empty DataFrame\n",
       "Columns: []\n",
       "Index: []"
      ]
     },
     "execution_count": 25,
     "metadata": {},
     "output_type": "execute_result"
    }
   ],
   "source": [
    "statement = \"CREATE DATABASE IF NOT EXISTS {}\".format(database_name)\n",
    "print(statement)\n",
    "pd.read_sql(statement, conn)"
   ]
  },
  {
   "cell_type": "code",
   "execution_count": 26,
   "id": "f7202123-b6e1-4e39-8170-1fcb1ffd86ee",
   "metadata": {},
   "outputs": [
    {
     "name": "stderr",
     "output_type": "stream",
     "text": [
      "/tmp/ipykernel_2625/3999478089.py:3: UserWarning: pandas only supports SQLAlchemy connectable (engine/connection) or database string URI or sqlite3 DBAPI2 connection. Other DBAPI2 objects are not tested. Please consider using SQLAlchemy.\n",
      "  df_show = pd.read_sql(statement, conn)\n"
     ]
    },
    {
     "data": {
      "text/html": [
       "<div>\n",
       "<style scoped>\n",
       "    .dataframe tbody tr th:only-of-type {\n",
       "        vertical-align: middle;\n",
       "    }\n",
       "\n",
       "    .dataframe tbody tr th {\n",
       "        vertical-align: top;\n",
       "    }\n",
       "\n",
       "    .dataframe thead th {\n",
       "        text-align: right;\n",
       "    }\n",
       "</style>\n",
       "<table border=\"1\" class=\"dataframe\">\n",
       "  <thead>\n",
       "    <tr style=\"text-align: right;\">\n",
       "      <th></th>\n",
       "      <th>database_name</th>\n",
       "    </tr>\n",
       "  </thead>\n",
       "  <tbody>\n",
       "    <tr>\n",
       "      <th>0</th>\n",
       "      <td>default</td>\n",
       "    </tr>\n",
       "    <tr>\n",
       "      <th>1</th>\n",
       "      <td>dsomaintx</td>\n",
       "    </tr>\n",
       "  </tbody>\n",
       "</table>\n",
       "</div>"
      ],
      "text/plain": [
       "  database_name\n",
       "0       default\n",
       "1     dsomaintx"
      ]
     },
     "execution_count": 26,
     "metadata": {},
     "output_type": "execute_result"
    }
   ],
   "source": [
    "statement = \"SHOW DATABASES\"\n",
    "\n",
    "df_show = pd.read_sql(statement, conn)\n",
    "df_show.head(5)"
   ]
  },
  {
   "cell_type": "code",
   "execution_count": 27,
   "id": "299da6a2-435e-4117-9816-4db6fdd87445",
   "metadata": {},
   "outputs": [
    {
     "name": "stdout",
     "output_type": "stream",
     "text": [
      "CREATE EXTERNAL TABLE IF NOT EXISTS dsomaintx.maintx_raw_data(\n",
      "    Vehicle_Model string,\n",
      "    Mileage int,\n",
      "    Maintenance_History string,\n",
      "    Reported_Issues int,\n",
      "    Vehicle_Age int,\n",
      "    Fuel_Type string,\n",
      "    Transmission_Type string,\n",
      "    Engine_Size double,\n",
      "    Odometer_Reading int,\n",
      "    Last_Service_Date string,\n",
      "    Warranty_Expiry_Date string,\n",
      "    Owner_Type string,\n",
      "    Insurance_Premium int,\n",
      "    Service_History int,\n",
      "    Accident_History int,\n",
      "    Fuel_Efficiency double,\n",
      "    Tire_Condition string,\n",
      "    Brake_Condition string,\n",
      "    Battery_Status string,\n",
      "    Need_Maintenance int\n",
      ") ROW FORMAT DELIMITED \n",
      "FIELDS TERMINATED BY ',' \n",
      "LINES TERMINATED BY '\\n' \n",
      "LOCATION 's3://sagemaker-us-east-1-429874041769/maintx/csv'\n",
      "TBLPROPERTIES ('skip.header.line.count'='1')\n"
     ]
    }
   ],
   "source": [
    "table_name_csv = \"maintx_raw_data\"\n",
    "\n",
    "statement = \"\"\"CREATE EXTERNAL TABLE IF NOT EXISTS {}.{}(\n",
    "    Vehicle_Model string,\n",
    "    Mileage int,\n",
    "    Maintenance_History string,\n",
    "    Reported_Issues int,\n",
    "    Vehicle_Age int,\n",
    "    Fuel_Type string,\n",
    "    Transmission_Type string,\n",
    "    Engine_Size double,\n",
    "    Odometer_Reading int,\n",
    "    Last_Service_Date string,\n",
    "    Warranty_Expiry_Date string,\n",
    "    Owner_Type string,\n",
    "    Insurance_Premium int,\n",
    "    Service_History int,\n",
    "    Accident_History int,\n",
    "    Fuel_Efficiency double,\n",
    "    Tire_Condition string,\n",
    "    Brake_Condition string,\n",
    "    Battery_Status string,\n",
    "    Need_Maintenance int\n",
    ") ROW FORMAT DELIMITED \n",
    "FIELDS TERMINATED BY ',' \n",
    "LINES TERMINATED BY '\\\\n' \n",
    "LOCATION '{}'\n",
    "TBLPROPERTIES ('skip.header.line.count'='1')\"\"\".format(\n",
    "    database_name, table_name_csv, s3_private_path_maintx\n",
    ")\n",
    "\n",
    "print(statement)"
   ]
  },
  {
   "cell_type": "code",
   "execution_count": 28,
   "id": "73de041e-a87b-48a1-ac21-f6a56cb363f3",
   "metadata": {},
   "outputs": [
    {
     "name": "stderr",
     "output_type": "stream",
     "text": [
      "/tmp/ipykernel_2625/618921652.py:1: UserWarning: pandas only supports SQLAlchemy connectable (engine/connection) or database string URI or sqlite3 DBAPI2 connection. Other DBAPI2 objects are not tested. Please consider using SQLAlchemy.\n",
      "  pd.read_sql(statement, conn)\n"
     ]
    },
    {
     "data": {
      "text/html": [
       "<div>\n",
       "<style scoped>\n",
       "    .dataframe tbody tr th:only-of-type {\n",
       "        vertical-align: middle;\n",
       "    }\n",
       "\n",
       "    .dataframe tbody tr th {\n",
       "        vertical-align: top;\n",
       "    }\n",
       "\n",
       "    .dataframe thead th {\n",
       "        text-align: right;\n",
       "    }\n",
       "</style>\n",
       "<table border=\"1\" class=\"dataframe\">\n",
       "  <thead>\n",
       "    <tr style=\"text-align: right;\">\n",
       "      <th></th>\n",
       "    </tr>\n",
       "  </thead>\n",
       "  <tbody>\n",
       "  </tbody>\n",
       "</table>\n",
       "</div>"
      ],
      "text/plain": [
       "Empty DataFrame\n",
       "Columns: []\n",
       "Index: []"
      ]
     },
     "execution_count": 28,
     "metadata": {},
     "output_type": "execute_result"
    }
   ],
   "source": [
    "pd.read_sql(statement, conn)"
   ]
  },
  {
   "cell_type": "code",
   "execution_count": 29,
   "id": "6db8fc62-7b68-48cf-babe-6f9b7635ff77",
   "metadata": {},
   "outputs": [
    {
     "name": "stderr",
     "output_type": "stream",
     "text": [
      "/tmp/ipykernel_2625/2201015668.py:3: UserWarning: pandas only supports SQLAlchemy connectable (engine/connection) or database string URI or sqlite3 DBAPI2 connection. Other DBAPI2 objects are not tested. Please consider using SQLAlchemy.\n",
      "  df_show = pd.read_sql(statement, conn)\n"
     ]
    },
    {
     "data": {
      "text/html": [
       "<div>\n",
       "<style scoped>\n",
       "    .dataframe tbody tr th:only-of-type {\n",
       "        vertical-align: middle;\n",
       "    }\n",
       "\n",
       "    .dataframe tbody tr th {\n",
       "        vertical-align: top;\n",
       "    }\n",
       "\n",
       "    .dataframe thead th {\n",
       "        text-align: right;\n",
       "    }\n",
       "</style>\n",
       "<table border=\"1\" class=\"dataframe\">\n",
       "  <thead>\n",
       "    <tr style=\"text-align: right;\">\n",
       "      <th></th>\n",
       "      <th>tab_name</th>\n",
       "    </tr>\n",
       "  </thead>\n",
       "  <tbody>\n",
       "    <tr>\n",
       "      <th>0</th>\n",
       "      <td>maintx_raw_data</td>\n",
       "    </tr>\n",
       "  </tbody>\n",
       "</table>\n",
       "</div>"
      ],
      "text/plain": [
       "          tab_name\n",
       "0  maintx_raw_data"
      ]
     },
     "execution_count": 29,
     "metadata": {},
     "output_type": "execute_result"
    }
   ],
   "source": [
    "statement = \"SHOW TABLES in {}\".format(database_name)\n",
    "\n",
    "df_show = pd.read_sql(statement, conn)\n",
    "df_show.head(5)"
   ]
  },
  {
   "cell_type": "code",
   "execution_count": 30,
   "id": "957871b9-4e9d-4a7d-8a10-9470a82b7136",
   "metadata": {},
   "outputs": [
    {
     "name": "stderr",
     "output_type": "stream",
     "text": [
      "/tmp/ipykernel_2625/2896056408.py:5: UserWarning: pandas only supports SQLAlchemy connectable (engine/connection) or database string URI or sqlite3 DBAPI2 connection. Other DBAPI2 objects are not tested. Please consider using SQLAlchemy.\n",
      "  df = pd.read_sql(statement, conn)\n"
     ]
    }
   ],
   "source": [
    "statement = \"\"\"SELECT * FROM {}.{}\"\"\".format(\n",
    "    database_name, table_name_csv\n",
    ")\n",
    "\n",
    "df = pd.read_sql(statement, conn)"
   ]
  },
  {
   "cell_type": "code",
   "execution_count": 31,
   "id": "10dbf04b-99aa-402c-80f5-a576fce1929d",
   "metadata": {},
   "outputs": [
    {
     "data": {
      "text/html": [
       "<div>\n",
       "<style scoped>\n",
       "    .dataframe tbody tr th:only-of-type {\n",
       "        vertical-align: middle;\n",
       "    }\n",
       "\n",
       "    .dataframe tbody tr th {\n",
       "        vertical-align: top;\n",
       "    }\n",
       "\n",
       "    .dataframe thead th {\n",
       "        text-align: right;\n",
       "    }\n",
       "</style>\n",
       "<table border=\"1\" class=\"dataframe\">\n",
       "  <thead>\n",
       "    <tr style=\"text-align: right;\">\n",
       "      <th></th>\n",
       "      <th>vehicle_model</th>\n",
       "      <th>mileage</th>\n",
       "      <th>maintenance_history</th>\n",
       "      <th>reported_issues</th>\n",
       "      <th>vehicle_age</th>\n",
       "      <th>fuel_type</th>\n",
       "      <th>transmission_type</th>\n",
       "      <th>engine_size</th>\n",
       "      <th>odometer_reading</th>\n",
       "      <th>last_service_date</th>\n",
       "      <th>warranty_expiry_date</th>\n",
       "      <th>owner_type</th>\n",
       "      <th>insurance_premium</th>\n",
       "      <th>service_history</th>\n",
       "      <th>accident_history</th>\n",
       "      <th>fuel_efficiency</th>\n",
       "      <th>tire_condition</th>\n",
       "      <th>brake_condition</th>\n",
       "      <th>battery_status</th>\n",
       "      <th>need_maintenance</th>\n",
       "    </tr>\n",
       "  </thead>\n",
       "  <tbody>\n",
       "    <tr>\n",
       "      <th>0</th>\n",
       "      <td>Truck</td>\n",
       "      <td>58765</td>\n",
       "      <td>Good</td>\n",
       "      <td>0</td>\n",
       "      <td>4</td>\n",
       "      <td>Electric</td>\n",
       "      <td>Automatic</td>\n",
       "      <td>2000.0</td>\n",
       "      <td>28524</td>\n",
       "      <td>11/23/2023</td>\n",
       "      <td>6/24/2025</td>\n",
       "      <td>Second</td>\n",
       "      <td>20782</td>\n",
       "      <td>6</td>\n",
       "      <td>3</td>\n",
       "      <td>13.622204</td>\n",
       "      <td>New</td>\n",
       "      <td>New</td>\n",
       "      <td>Weak</td>\n",
       "      <td>1</td>\n",
       "    </tr>\n",
       "    <tr>\n",
       "      <th>1</th>\n",
       "      <td>Van</td>\n",
       "      <td>60353</td>\n",
       "      <td>Average</td>\n",
       "      <td>1</td>\n",
       "      <td>7</td>\n",
       "      <td>Electric</td>\n",
       "      <td>Automatic</td>\n",
       "      <td>2500.0</td>\n",
       "      <td>133630</td>\n",
       "      <td>9/21/2023</td>\n",
       "      <td>6/4/2025</td>\n",
       "      <td>Second</td>\n",
       "      <td>23489</td>\n",
       "      <td>7</td>\n",
       "      <td>0</td>\n",
       "      <td>13.625307</td>\n",
       "      <td>New</td>\n",
       "      <td>New</td>\n",
       "      <td>Weak</td>\n",
       "      <td>1</td>\n",
       "    </tr>\n",
       "    <tr>\n",
       "      <th>2</th>\n",
       "      <td>Bus</td>\n",
       "      <td>68072</td>\n",
       "      <td>Poor</td>\n",
       "      <td>0</td>\n",
       "      <td>2</td>\n",
       "      <td>Electric</td>\n",
       "      <td>Automatic</td>\n",
       "      <td>1500.0</td>\n",
       "      <td>34022</td>\n",
       "      <td>6/27/2023</td>\n",
       "      <td>4/27/2025</td>\n",
       "      <td>First</td>\n",
       "      <td>17979</td>\n",
       "      <td>7</td>\n",
       "      <td>0</td>\n",
       "      <td>14.306302</td>\n",
       "      <td>New</td>\n",
       "      <td>Good</td>\n",
       "      <td>Weak</td>\n",
       "      <td>1</td>\n",
       "    </tr>\n",
       "    <tr>\n",
       "      <th>3</th>\n",
       "      <td>Bus</td>\n",
       "      <td>60849</td>\n",
       "      <td>Average</td>\n",
       "      <td>4</td>\n",
       "      <td>5</td>\n",
       "      <td>Petrol</td>\n",
       "      <td>Automatic</td>\n",
       "      <td>2500.0</td>\n",
       "      <td>81636</td>\n",
       "      <td>8/24/2023</td>\n",
       "      <td>11/5/2025</td>\n",
       "      <td>Second</td>\n",
       "      <td>6220</td>\n",
       "      <td>7</td>\n",
       "      <td>3</td>\n",
       "      <td>18.709467</td>\n",
       "      <td>New</td>\n",
       "      <td>Worn Out</td>\n",
       "      <td>New</td>\n",
       "      <td>1</td>\n",
       "    </tr>\n",
       "    <tr>\n",
       "      <th>4</th>\n",
       "      <td>Bus</td>\n",
       "      <td>45742</td>\n",
       "      <td>Poor</td>\n",
       "      <td>5</td>\n",
       "      <td>1</td>\n",
       "      <td>Petrol</td>\n",
       "      <td>Manual</td>\n",
       "      <td>2000.0</td>\n",
       "      <td>97162</td>\n",
       "      <td>5/25/2023</td>\n",
       "      <td>9/14/2025</td>\n",
       "      <td>Third</td>\n",
       "      <td>16446</td>\n",
       "      <td>6</td>\n",
       "      <td>2</td>\n",
       "      <td>16.977483</td>\n",
       "      <td>Good</td>\n",
       "      <td>Good</td>\n",
       "      <td>Weak</td>\n",
       "      <td>1</td>\n",
       "    </tr>\n",
       "    <tr>\n",
       "      <th>...</th>\n",
       "      <td>...</td>\n",
       "      <td>...</td>\n",
       "      <td>...</td>\n",
       "      <td>...</td>\n",
       "      <td>...</td>\n",
       "      <td>...</td>\n",
       "      <td>...</td>\n",
       "      <td>...</td>\n",
       "      <td>...</td>\n",
       "      <td>...</td>\n",
       "      <td>...</td>\n",
       "      <td>...</td>\n",
       "      <td>...</td>\n",
       "      <td>...</td>\n",
       "      <td>...</td>\n",
       "      <td>...</td>\n",
       "      <td>...</td>\n",
       "      <td>...</td>\n",
       "      <td>...</td>\n",
       "      <td>...</td>\n",
       "    </tr>\n",
       "    <tr>\n",
       "      <th>95</th>\n",
       "      <td>Motorcycle</td>\n",
       "      <td>31968</td>\n",
       "      <td>Good</td>\n",
       "      <td>0</td>\n",
       "      <td>1</td>\n",
       "      <td>Diesel</td>\n",
       "      <td>Manual</td>\n",
       "      <td>1000.0</td>\n",
       "      <td>35299</td>\n",
       "      <td>5/22/2023</td>\n",
       "      <td>3/31/2025</td>\n",
       "      <td>Second</td>\n",
       "      <td>28709</td>\n",
       "      <td>4</td>\n",
       "      <td>2</td>\n",
       "      <td>10.894891</td>\n",
       "      <td>Worn Out</td>\n",
       "      <td>Good</td>\n",
       "      <td>Weak</td>\n",
       "      <td>1</td>\n",
       "    </tr>\n",
       "    <tr>\n",
       "      <th>96</th>\n",
       "      <td>Van</td>\n",
       "      <td>74433</td>\n",
       "      <td>Average</td>\n",
       "      <td>4</td>\n",
       "      <td>10</td>\n",
       "      <td>Electric</td>\n",
       "      <td>Automatic</td>\n",
       "      <td>1500.0</td>\n",
       "      <td>145679</td>\n",
       "      <td>4/1/2023</td>\n",
       "      <td>1/18/2026</td>\n",
       "      <td>Second</td>\n",
       "      <td>28275</td>\n",
       "      <td>1</td>\n",
       "      <td>2</td>\n",
       "      <td>19.213680</td>\n",
       "      <td>New</td>\n",
       "      <td>New</td>\n",
       "      <td>Good</td>\n",
       "      <td>1</td>\n",
       "    </tr>\n",
       "    <tr>\n",
       "      <th>97</th>\n",
       "      <td>Car</td>\n",
       "      <td>45688</td>\n",
       "      <td>Poor</td>\n",
       "      <td>5</td>\n",
       "      <td>9</td>\n",
       "      <td>Electric</td>\n",
       "      <td>Manual</td>\n",
       "      <td>800.0</td>\n",
       "      <td>9054</td>\n",
       "      <td>10/19/2023</td>\n",
       "      <td>12/8/2024</td>\n",
       "      <td>First</td>\n",
       "      <td>10501</td>\n",
       "      <td>9</td>\n",
       "      <td>1</td>\n",
       "      <td>18.040922</td>\n",
       "      <td>Good</td>\n",
       "      <td>Worn Out</td>\n",
       "      <td>New</td>\n",
       "      <td>1</td>\n",
       "    </tr>\n",
       "    <tr>\n",
       "      <th>98</th>\n",
       "      <td>Car</td>\n",
       "      <td>78209</td>\n",
       "      <td>Average</td>\n",
       "      <td>0</td>\n",
       "      <td>4</td>\n",
       "      <td>Diesel</td>\n",
       "      <td>Manual</td>\n",
       "      <td>2500.0</td>\n",
       "      <td>45994</td>\n",
       "      <td>11/24/2023</td>\n",
       "      <td>3/24/2025</td>\n",
       "      <td>First</td>\n",
       "      <td>10483</td>\n",
       "      <td>3</td>\n",
       "      <td>2</td>\n",
       "      <td>14.296703</td>\n",
       "      <td>New</td>\n",
       "      <td>New</td>\n",
       "      <td>New</td>\n",
       "      <td>0</td>\n",
       "    </tr>\n",
       "    <tr>\n",
       "      <th>99</th>\n",
       "      <td>Van</td>\n",
       "      <td>51487</td>\n",
       "      <td>Good</td>\n",
       "      <td>5</td>\n",
       "      <td>8</td>\n",
       "      <td>Diesel</td>\n",
       "      <td>Manual</td>\n",
       "      <td>2000.0</td>\n",
       "      <td>29547</td>\n",
       "      <td>8/28/2023</td>\n",
       "      <td>9/5/2024</td>\n",
       "      <td>Third</td>\n",
       "      <td>25768</td>\n",
       "      <td>1</td>\n",
       "      <td>3</td>\n",
       "      <td>15.395486</td>\n",
       "      <td>New</td>\n",
       "      <td>New</td>\n",
       "      <td>New</td>\n",
       "      <td>1</td>\n",
       "    </tr>\n",
       "  </tbody>\n",
       "</table>\n",
       "<p>100 rows × 20 columns</p>\n",
       "</div>"
      ],
      "text/plain": [
       "   vehicle_model  mileage maintenance_history  reported_issues  vehicle_age  \\\n",
       "0          Truck    58765                Good                0            4   \n",
       "1            Van    60353             Average                1            7   \n",
       "2            Bus    68072                Poor                0            2   \n",
       "3            Bus    60849             Average                4            5   \n",
       "4            Bus    45742                Poor                5            1   \n",
       "..           ...      ...                 ...              ...          ...   \n",
       "95    Motorcycle    31968                Good                0            1   \n",
       "96           Van    74433             Average                4           10   \n",
       "97           Car    45688                Poor                5            9   \n",
       "98           Car    78209             Average                0            4   \n",
       "99           Van    51487                Good                5            8   \n",
       "\n",
       "   fuel_type transmission_type  engine_size  odometer_reading  \\\n",
       "0   Electric         Automatic       2000.0             28524   \n",
       "1   Electric         Automatic       2500.0            133630   \n",
       "2   Electric         Automatic       1500.0             34022   \n",
       "3     Petrol         Automatic       2500.0             81636   \n",
       "4     Petrol            Manual       2000.0             97162   \n",
       "..       ...               ...          ...               ...   \n",
       "95    Diesel            Manual       1000.0             35299   \n",
       "96  Electric         Automatic       1500.0            145679   \n",
       "97  Electric            Manual        800.0              9054   \n",
       "98    Diesel            Manual       2500.0             45994   \n",
       "99    Diesel            Manual       2000.0             29547   \n",
       "\n",
       "   last_service_date warranty_expiry_date owner_type  insurance_premium  \\\n",
       "0         11/23/2023            6/24/2025     Second              20782   \n",
       "1          9/21/2023             6/4/2025     Second              23489   \n",
       "2          6/27/2023            4/27/2025      First              17979   \n",
       "3          8/24/2023            11/5/2025     Second               6220   \n",
       "4          5/25/2023            9/14/2025      Third              16446   \n",
       "..               ...                  ...        ...                ...   \n",
       "95         5/22/2023            3/31/2025     Second              28709   \n",
       "96          4/1/2023            1/18/2026     Second              28275   \n",
       "97        10/19/2023            12/8/2024      First              10501   \n",
       "98        11/24/2023            3/24/2025      First              10483   \n",
       "99         8/28/2023             9/5/2024      Third              25768   \n",
       "\n",
       "    service_history  accident_history  fuel_efficiency tire_condition  \\\n",
       "0                 6                 3        13.622204            New   \n",
       "1                 7                 0        13.625307            New   \n",
       "2                 7                 0        14.306302            New   \n",
       "3                 7                 3        18.709467            New   \n",
       "4                 6                 2        16.977483           Good   \n",
       "..              ...               ...              ...            ...   \n",
       "95                4                 2        10.894891       Worn Out   \n",
       "96                1                 2        19.213680            New   \n",
       "97                9                 1        18.040922           Good   \n",
       "98                3                 2        14.296703            New   \n",
       "99                1                 3        15.395486            New   \n",
       "\n",
       "   brake_condition battery_status  need_maintenance  \n",
       "0              New           Weak                 1  \n",
       "1              New           Weak                 1  \n",
       "2             Good           Weak                 1  \n",
       "3         Worn Out            New                 1  \n",
       "4             Good           Weak                 1  \n",
       "..             ...            ...               ...  \n",
       "95            Good           Weak                 1  \n",
       "96             New           Good                 1  \n",
       "97        Worn Out            New                 1  \n",
       "98             New            New                 0  \n",
       "99             New            New                 1  \n",
       "\n",
       "[100 rows x 20 columns]"
      ]
     },
     "execution_count": 31,
     "metadata": {},
     "output_type": "execute_result"
    }
   ],
   "source": [
    "df.head(100)"
   ]
  },
  {
   "cell_type": "markdown",
   "id": "a4c13858-b7f3-4230-8279-5f76ef92ed0c",
   "metadata": {},
   "source": [
    "## EDA"
   ]
  },
  {
   "cell_type": "code",
   "execution_count": null,
   "id": "15a4210d-e59f-4044-982a-dca93a3136da",
   "metadata": {},
   "outputs": [],
   "source": []
  }
 ],
 "metadata": {
  "kernelspec": {
   "display_name": "Python 3 (ipykernel)",
   "language": "python",
   "name": "python3"
  },
  "language_info": {
   "codemirror_mode": {
    "name": "ipython",
    "version": 3
   },
   "file_extension": ".py",
   "mimetype": "text/x-python",
   "name": "python",
   "nbconvert_exporter": "python",
   "pygments_lexer": "ipython3",
   "version": "3.12.9"
  }
 },
 "nbformat": 4,
 "nbformat_minor": 5
}
